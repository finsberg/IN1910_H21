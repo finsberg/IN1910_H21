{
 "cells": [
  {
   "cell_type": "markdown",
   "metadata": {},
   "source": [
    "# Week 7\n",
    "## Object-oriented programming in C++\n",
    "\n"
   ]
  },
  {
   "cell_type": "markdown",
   "metadata": {},
   "source": [
    "### Part A) Cartesian and polar coordinates\n",
    "\n",
    "###### Defining structs\n",
    "\n",
    "**a)** Create a struct that represents a point in the plane in cartesian coordinates:\n",
    "\n",
    "$$\\vec{r} = (x, y).$$\n",
    "\n",
    "**b)** Create a struct that represents a point in the plane in polar coordinates.\n",
    "\n",
    "$$\\vec{r} = (r, \\theta).$$\n",
    "\n",
    "###### Translating between coordinate systems\n",
    "\n",
    "**c)** Create a function `cart2polar` that takes in a point defined in cartesian coordinates, and returns the same point in polar coordinates. To do this, you will need some trigonometric functions, which you can include from the `<cmath>` standard header.\n",
    "\n",
    "**d)** Create the inverse function, `polar2cart`.\n",
    "\n",
    "**e)** Test your function by converting some points by hand, and making sure your functions act as intended. Then verify that using both functions:\n",
    "```\n",
    "polar2cart(cart2polar(u))\n",
    "```\n",
    "gives the same vector as the original.\n",
    "\n",
    "###### Transforming vectors\n",
    "\n",
    "We now define two operations we can do on these vectors. First we define *scaling*  as the operation that changes the length of the vector, but not its orientation. In polar coordinate this means $r$ is changed, but not $\\theta$:\n",
    "\n",
    "$$\\mbox{scale}(\\vec {r}, s) = (r\\cdot s, \\theta).$$\n",
    "\n",
    "**f)** Implement a function `scale` that takes in a point defined in polar coordinates and returns a scaled variant.\n",
    "\n",
    "In Cartesian coordaintes, the scale operation is given by scaling $x$ and $y$ by the same factor:\n",
    "\n",
    "$$\\mbox{scale}(\\vec {r}, s) = (x\\cdot s, y\\cdot s).$$\n",
    "\n",
    "**g)** Overload the `scale` function, so that it also correctly scales input in cartesian coordinates.\n",
    "\n",
    "Next we define the *rotate* operation, which changes the orientation ($\\theta$), but not the length $r$. In polar coordinates, this operation is given as\n",
    "\n",
    "$$\\mbox{rotate}(\\vec {r}, \\omega) = (r, \\theta + \\omega).$$\n",
    "While in Cartesian coordinates, it is a bit more complicated\n",
    "\n",
    "$$\\mbox{rotate}(\\vec {r}, \\omega) = \\begin{bmatrix} \\cos(\\omega) & -\\sin(\\omega) \\\\ \\sin(\\omega) & \\cos(\\omega) \\end{bmatrix} \\begin{bmatrix} x \\\\ y \\end{bmatrix}.$$\n",
    "\n",
    "**h)** Implement the `rotate` function. Use function overloading so that it can take either struct as input.\n"
   ]
  },
  {
   "cell_type": "markdown",
   "metadata": {},
   "source": [
    "### Part B) Affine Transforms\n",
    "\n",
    "In 2D an affine transform can be written as \n",
    "$$f(x, y) = \\begin{bmatrix} a & b \\\\ c & d\\end{bmatrix}\\begin{bmatrix}x \\\\ y\\end{bmatrix} + \\begin{bmatrix}e \\\\ f\\end{bmatrix}.$$\n",
    "\n",
    "**a)** Define a class `AffineTransform` that stores the six parameters $a, \\ldots, f$ as private variables in the class. \n",
    "\n",
    "**b)** Define a constructor for the class that takes all six parameters in.\n",
    "\n",
    "**c)** Also make it possible to only send in the four first ($a, b, c, d$) in, in which case the last two should default to 0. You can do this either by overloading the constructor, or by using default arguments.\n",
    "\n",
    "**d)** Define a method to evalute $f(x, y)$. You will need to create a struct of some sort to output your results."
   ]
  },
  {
   "cell_type": "markdown",
   "metadata": {},
   "source": [
    "### Part C) A Class for Polynomials\n",
    "\n",
    "In this exercise, you will implement a class to represent a general Polynomial, much like you did in Python for E2.\n",
    "\n",
    "To store the coefficients of the polynomial-object in Python, we used a dictionary. In C++, the data type most like a dictionary is the *map*. Before you turn to actually defining the class, let us first get familiar with the `map` data type.\n",
    "\n",
    "First of, when creating a map object, you must specify what type the keys should be, and what type the values should be, like so:\n",
    "```C++\n",
    "map<int, int> partners;\n",
    "map<string, double> params;\n",
    "map<int, string> students;\n",
    "```\n",
    "After creating the variable, you can use it in the same way as in Python, by indexing with the key:\n",
    "```C++\n",
    "partners[2] = 4;\n",
    "params[\"friction\"] = 0.4;\n",
    "students[147] = \"John Doe\";\n",
    "```\n",
    "You can iterate over a dictionary as follows:\n",
    "```C++\n",
    "for (pair<string, double> element: params) {\n",
    "    cout << element.first;\n",
    "    cout << \" -> \";\n",
    "    cout << element.second;\n",
    "    cout << endl;\n",
    "}\n",
    "```\n",
    "Here, we loop over the dictionary, and the values are stored in a `pair` data type, to get the key access the `.first` attribute, while the value will be in `.second`.\n",
    "\n",
    "Now it's time to make the class.\n",
    "\n",
    "**a)** Define a `Polynomial` class that reprents a general polynomial:\n",
    "$$f(x) = \\sum_{n=0}^\\infty a_n x^n.$$\n",
    "The class should store the coefficients $a_n$ as a private `map` variable.\n",
    "\n",
    "**b)** Define a constructor for the class that takes the coefficients in as a map.\n",
    "\n",
    "**c)** Define a method `evaluate(double x)`, that returns `f(x)`.\n",
    "\n",
    "**d)** Define a method `print` that prints out the Polynomial in a pretty and readable way.\n",
    "\n",
    "**e)** Verify that your class works by creating the polynomial\n",
    "$$f(x) = x^{10} - 5x^5 + 1,$$\n",
    "\n",
    "and computing the values for $x=-2, 0, 2$ by hand and comparing."
   ]
  },
  {
   "cell_type": "markdown",
   "metadata": {},
   "source": [
    "##### More exercises\n",
    "If you have finished all the exercises for this week, but want to do more. Take a look at this weeks [challenge](C2_primes_by_sieve.ipynb). If you want even more, feel free to send me an email (jonas@simula.no), and I will happily share more."
   ]
  }
 ],
 "metadata": {
  "kernelspec": {
   "display_name": "Python 3",
   "language": "python",
   "name": "python3"
  },
  "language_info": {
   "codemirror_mode": {
    "name": "ipython",
    "version": 3
   },
   "file_extension": ".py",
   "mimetype": "text/x-python",
   "name": "python",
   "nbconvert_exporter": "python",
   "pygments_lexer": "ipython3",
   "version": "3.7.6"
  }
 },
 "nbformat": 4,
 "nbformat_minor": 2
}
