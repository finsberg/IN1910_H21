{
 "cells": [
  {
   "cell_type": "markdown",
   "metadata": {},
   "source": [
    "# Week 6\n",
    "## An Introduction to C++\n",
    "\n",
    "This week, we start looking at a new programming language, C++. In these exercises, you will get a chance to solve some exercises using this new language. As the goal is to get you familiarized with the C++ syntax, and how to compile and run the programs, the exercises themselves are not that technical."
   ]
  },
  {
   "cell_type": "markdown",
   "metadata": {},
   "source": [
    "If you haven't set up your computer for C++ programming yet, have a look at [our setup guide](../../setup/cpp_compiler.md)"
   ]
  },
  {
   "cell_type": "markdown",
   "metadata": {},
   "source": [
    "### Exercise 1) Hello World\n",
    "\n",
    "**a)** Create a file `hello_world.cpp` and write code that writes out a small message to the user when run.\n",
    "\n",
    "**b)** Compile your file through the terminal. This is explained in detail in this weeks lecture notes (Link: [L9](../../lectures/week6/L9_intro_to_cpp.ipynb)), but the basic command is\n",
    "```\n",
    "g++ <input_file> -o <output name>\n",
    "```\n",
    "**c)** Execute your compiled program and verify that it works."
   ]
  },
  {
   "cell_type": "markdown",
   "metadata": {},
   "source": [
    "### Exercise 2) Reduction by halves\n",
    "\n",
    "**a)** Define an integer $n=100$\n",
    "\n",
    "**b)** Define a while loop that first prints out $n$, then divides it by 2, untill it reaches 0. \n",
    "\n",
    "**c)** Compile and run your program. It should print out\n",
    "$$100, 50, 25, ..., 1.$$\n",
    "\n",
    "**d)** Change your program so that the while loop is inside a function, you should use the following signature:\n",
    "```C++\n",
    "void reduction_by_halves(int n) {\n",
    "...\n",
    "}\n",
    "```\n",
    "Note that we use `void`, as the function should not return anything.\n",
    "\n",
    "**e)** Call you function from the main function with $n=1000$."
   ]
  },
  {
   "cell_type": "markdown",
   "metadata": {},
   "source": [
    "### Exercise 3) Stirling's Approximation\n",
    "\n",
    "Stirling's approximation is a much used approximation for the logarithm of factorials. It is given by\n",
    "\n",
    "$$\\ln x! \\approx x\\ln x - x.$$\n",
    "\n",
    "**a)** Define a function `stirling` that takes in the integer $x$, and returns the approximation as a double.\n",
    "\n",
    "**b)** Define the values\n",
    "$$x = 2, 5, 10, 50, 100, 1000,$$\n",
    "\n",
    "as a vector. Use a for loop to iterate through these values and compute Stirling's approximation for each one.\n",
    "\n",
    "**c)** For each value, compare the approximation to the correct value of $\\ln x!$. You can compute the correct valueby using `std::lgamma` by including the `<cmath>` header, note that $\\ln x!$ is given by `lgamma(x+1)`.\n"
   ]
  },
  {
   "cell_type": "markdown",
   "metadata": {},
   "source": [
    "### Exercise 4) Triangle Numbers\n",
    "\n",
    "The $n$'th triangle number is the sum of the integers from 1 up to and including $n$.\n",
    "\n",
    "**a)** Define a function `triangle` that takes in an integer $n$, and returns the $n$'th triangle number. The function should use a loop and calculate the sum explicitly\n",
    "\n",
    "**b)** Call the function from the main loop, and verify that it gives the right answer for the first 5 triangle numbers.\n",
    "\n",
    "**c)** Check that the function gives the correct value for $n=761$. To see if the value is correct, you can use the analytical expression for the $n$'th triangle number, which is\n",
    "$$n(n+1)/2.$$\n",
    "\n",
    "**d)** Change your main function so that it asks the user for a number when executed. To ask for input, you can use `cin` as follows:\n",
    "```\n",
    "int n;\n",
    "\n",
    "cout << \"Please enter a number: \";\n",
    "cin >> n;\n",
    "```\n"
   ]
  },
  {
   "cell_type": "markdown",
   "metadata": {},
   "source": [
    "### Exercise 5) Linspace\n",
    "\n",
    "You might be familiar with the Python function `np.linspace(a, b)`, which gives a numpy array of 50 linearily spaced points between $a$ and $b$ inclusive.\n",
    "\n",
    "**a)** Define a function with the signature\n",
    "```C++\n",
    "vector<double> linspace(double a, double b)\n",
    "```\n",
    "It should return a vector with 50 linearily spaced points, just like `np.linspace`.\n",
    "\n",
    "**b)** The function `np.linspace` can also take a third argument if we want a different number of points than 50, so `np.linspace(0, 2*pi, 1000)` would give 1000 points for example. Overload your `linspace` function by implementing the signature:\n",
    "```C++\n",
    "vector<double> linspace(double a, double b, int n)\n",
    "```\n",
    "\n",
    "**c)** Verify that you can call on linspace with either 2 or 3 arguments. And that the results are as expected in either case."
   ]
  },
  {
   "cell_type": "markdown",
   "metadata": {},
   "source": [
    "### Exercise 6) Finite Differences\n",
    "\n",
    "In this exercise, you will numerically solve the exponential decay ODE model:\n",
    "\n",
    "$$\\frac{{\\rm d}u}{{\\rm d}t} = -au,$$\n",
    "using C++.\n",
    "\n",
    "**a)** Allocate two arrays, $u$ and $t$, each with 10001 elements.\n",
    "\n",
    "**b)** Let $u_0 = 15.7$ and $a=4.3$.\n",
    "\n",
    "**c)** Compute $t_i$ and $u_i$ for $i = 1, \\ldots, 10001$, with a time step $\\Delta t = 0.001$.\n",
    "\n",
    "Hint: Use a for-loop, and a forward euler scheme, which you can derive from the expression:\n",
    "\n",
    "$$\\frac{u_{i+1} - u_i}{\\Delta t} = -au_i.$$"
   ]
  },
  {
   "cell_type": "markdown",
   "metadata": {},
   "source": [
    "### More exercises\n",
    "\n",
    "If you have finished all the exercises for this week, but want to do more. Take a look at this week's [challenge](C1_primes_by_trial_division.ipynb)."
   ]
  }
 ],
 "metadata": {
  "kernelspec": {
   "display_name": "Python 3",
   "language": "python",
   "name": "python3"
  },
  "language_info": {
   "codemirror_mode": {
    "name": "ipython",
    "version": 3
   },
   "file_extension": ".py",
   "mimetype": "text/x-python",
   "name": "python",
   "nbconvert_exporter": "python",
   "pygments_lexer": "ipython3",
   "version": "3.8.5"
  }
 },
 "nbformat": 4,
 "nbformat_minor": 2
}
