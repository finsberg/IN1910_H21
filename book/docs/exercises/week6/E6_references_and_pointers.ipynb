{
 "cells": [
  {
   "cell_type": "markdown",
   "metadata": {},
   "source": [
    "# Week 6, Part 2\n",
    "## References and pointers in C++\n"
   ]
  },
  {
   "cell_type": "markdown",
   "metadata": {},
   "source": [
    "### Exercise 1) Returning several values using *Call by reference*\n",
    "\n",
    "When implementing a function in python that returns several values, even of different types, it is very common to return all at the same time using a tuple, e.g. `return n, x1, t_array`. C++ does not allow this, as tuples are not a native data structure. Instead, it is popular to retrieve the values resulting from the function by passing variables by reference to the function.\n",
    "\n",
    "Write a function `stats()` that among other things takes a vector `data`. The function should calculate the mean and the median of the vector. Before finding the median, you can use the function `std::sort()` from the package `<algorithm>` to sort the vector. Be carefull so that the original vector does not get sorted. Use call by references to retrieve the computed mean, median and sorted list. Print the computed values and the sorted vector for `vector<double> data = {1.2, 5.3, 7.1, -2.4, 9.2}`. Also print the original vector to make sure the function call did not change it."
   ]
  },
  {
   "cell_type": "markdown",
   "metadata": {},
   "source": [
    "### Exercise 2) Pointers and pointer arithmetic\n",
    "\n",
    "In this exercise, we will explore how C++ handles pointers and addresses to locations in the memory. \n",
    "\n",
    "#### Exercise 2a) \n",
    "Declare some variables `int a`, `float b`, `double c`. Use the referance operator `&` to get the addresses of the variables and print them. \n",
    "\n",
    "Note that the meaning of `&` depends on the context. When used in a function call, like `void func(int &x)`, it means \"call by reference\" like in the previous exercise. In this exercise however, `&` simply returns the address to where the variable is stored in memory. The addresses are displayed as *hexadecimal* numbers, so you might find that they look a little bit odd.\n",
    "\n",
    "#### Exercise 2b) Printing the address of consecutive elements\n",
    "The most primitive way of storing data in C++ is to allocate a chunk of memory and store the address to where this chunk starts. For example `int data[n]` allocates enough space for `n` integer values and stores the address to the first element in the pointer `data`.\n",
    "\n",
    "When allocating memory, the resulting array is said to be contiguous, meaning the elements of the array are stored at consecutive addresses in the physical memory. To verify this, make a function `address_of_int(int* data, int n)` that iterates over `data` and prints the address of each element. How far apart are the addresses? Repeat the same procedure for `double data[n]`. Is the spacing of the addresses the same as for `int`? Why/why not?\n",
    "\n",
    "#### Exercise 2c) Pointer arithmetic\n",
    "As already stated, the pointer `data` contains the address of the first element of the memory that was allocated. Whereas `&` gets the address where a value is stored, there is an inverse operator `*` that when applied to an address returns the value that lives there. We can thus write `*data` to retrieve the first element that `data` is pointing at, and this is equivalent to writing `data[0]`. `*` is called the dereference operator.\n",
    "\n",
    "A neat thing about dereferancing an address is that we can manipulate the address before dereferencing to get other values. For example, `*(data + 1)` will increment the address by one and return the next value, i.e. `data[1]`. Likewise, `*(data + 2)` is the same as `data[2]`. This is called pointer arithmetic, and is mainly a style choice.  \n",
    "\n",
    "Declare and initialize an array `int numbers[10]` cointaining the first ten natural numbers. Write a function `pointer_arithmetic(int* numbers, int n)` that iterates over `numbers` using pointer arithmetic rather than indexing and print the elements. Also print the incremented addresses and the addresses of `numbers[i]` to verify that pointer arithmetic and indexing are equivalent. "
   ]
  },
  {
   "cell_type": "code",
   "execution_count": null,
   "metadata": {},
   "outputs": [],
   "source": []
  }
 ],
 "metadata": {
  "kernelspec": {
   "display_name": "Python 3",
   "language": "python",
   "name": "python3"
  },
  "language_info": {
   "codemirror_mode": {
    "name": "ipython",
    "version": 3
   },
   "file_extension": ".py",
   "mimetype": "text/x-python",
   "name": "python",
   "nbconvert_exporter": "python",
   "pygments_lexer": "ipython3",
   "version": "3.8.5"
  }
 },
 "nbformat": 4,
 "nbformat_minor": 2
}
