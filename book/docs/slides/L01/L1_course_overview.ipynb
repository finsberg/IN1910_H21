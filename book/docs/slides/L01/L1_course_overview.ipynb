{
 "cells": [
  {
   "cell_type": "markdown",
   "metadata": {
    "slideshow": {
     "slide_type": "slide"
    }
   },
   "source": [
    "# Velkommen til IN1910 - Programmering for naturvitenskapelige anvendelser (Høst 2021)\n",
    "\n",
    "\n",
    "<img src=\"figures/UiO_Segl_A.png\" style=\"width: 50%;\"/>"
   ]
  },
  {
   "cell_type": "markdown",
   "metadata": {
    "slideshow": {
     "slide_type": "slide"
    }
   },
   "source": [
    "## Hva er IN1910?\n",
    "\n",
    "Studier viser at forskere innen naturfagene gjerne bruker 30% eller mer av tiden siden på programmering, men 90% av dem er hovedsakelig selvlærte. (<a href=\"http://journals.plos.org/plosbiology/article?id=10.1371/journal.pbio.1001745\">Wilson et al, 2014</a>)\n",
    "\n",
    "<img src=\"figures/software_carpentry.png\" style=\"width: 50%\">\n",
    "\n",
    "\n",
    "I IN1910 ønsker vi å bygge videre på grunnleggende programmeringskunnskaper dere allerede har, og gi dere viktig kunnskap og verktøy som er nyttige for vitenskapelig programmering."
   ]
  },
  {
   "cell_type": "markdown",
   "metadata": {
    "slideshow": {
     "slide_type": "slide"
    }
   },
   "source": [
    "### Best practices\n",
    "\n",
    "Vi ønsker ikke bare å lære dere ren programmering, men også viktige verktøy og god praksis. Her er vi spesielt inspirert av følgende artikkel\n",
    "\n",
    "<img src=\"figures/wilson.png\" style=\"width: 75%\">"
   ]
  },
  {
   "cell_type": "markdown",
   "metadata": {
    "slideshow": {
     "slide_type": "slide"
    }
   },
   "source": [
    "## Best Practices\n",
    "\n",
    "1. Write programs for people, not computers\n",
    "2. Let the computer do the work\n",
    "3. Make incremental changes\n",
    "4. Don't repeat yourself (or others)\n",
    "5. Plan for mistakes\n",
    "6. Optimize code only after it works correctly\n",
    "7. Document design and purpose, not mechanics\n",
    "8. Collaborate"
   ]
  },
  {
   "cell_type": "markdown",
   "metadata": {
    "slideshow": {
     "slide_type": "slide"
    }
   },
   "source": [
    "## Hvilke språk?\n",
    "\n",
    "I IN1910 bruker vi en blanding av Python og C++. Begge er gratis og ettertraktede språk i arbeidsmarkedet. Vi bruker en blanding av to språk fordi disse utfyller hverandre\n",
    "\n",
    "**Python:**\n",
    "* Høynivå\n",
    "* Tolket språk\n",
    "* Enkelt å ta i bruk, raskt å utvikle kode\n",
    "    \n",
    "**C++:**\n",
    "* Lavnivå\n",
    "* Kompilert språk\n",
    "* Kan være mer utfordrende\n",
    "   \n",
    "    "
   ]
  },
  {
   "cell_type": "markdown",
   "metadata": {
    "slideshow": {
     "slide_type": "slide"
    }
   },
   "source": [
    "## Hvorfor akkurat Python og C++?\n",
    "\n",
    "Python og C++ er begge blant de fem mest brukte programmeringsspråkene i verden, spesielt innen vitenskapelig programmering. C#, Java og JavaScript er blant top 5, men brukes noe mindre i vitenskaplig programmering.\n",
    "\n",
    "<img src=\"figures/programmeringsprak.png\" alt=\"Drawing\" style=\"width: 75%;\"/>  \n",
    "<center>Kilde: Figuren er laget med <a href=http://pypl.github.io/PYPL.html>pypl.github.io/</a> og brukt under <a href=https://creativecommons.org/licenses/by/3.0/>CC BY 3.0</a> lisens.</center>\n",
    "\n"
   ]
  },
  {
   "cell_type": "markdown",
   "metadata": {
    "slideshow": {
     "slide_type": "slide"
    }
   },
   "source": [
    "## Forelesninger\n",
    "\n",
    "Forelesninger vil foregå fysisk (OJD Simula), men kan følges digitalt via Zoom (link finner du i Timeplanen på emnesidene)\n",
    "\n",
    "* Tirsdager 12.15-14.\n",
    "* Torsdager 12.15-14.00\n",
    "\n",
    "Forelesninger vil holdes hovedsakelig av Henrik og Jonas. Joakim Sundnes er også fagansvarlig.\n",
    "\n",
    "<table style=\"background-color: white; width:50%\">\n",
    "    <tr>\n",
    "      <td > <img src=\"figures/henrik.jpg\" alt=\"Drawing\" style=\"width: 100%;\"/>  \n",
    "       <center>Henrik Finsberg </center>\n",
    "       </td>\n",
    "      <td> <img src=\"figures/jonas.jpg\" alt=\"Drawing\" style=\"width: 100%;\"/> \n",
    "          <center>Jonas van den Brink</center>\n",
    "        </td>\n",
    "        <td> <img src=\"figures/joakim.jpg\" alt=\"Drawing\" style=\"width: 100%;\"/> \n",
    "          <center>Joakim Sundes</center>\n",
    "        </td>\n",
    "    <tr>\n",
    "</table>\n"
   ]
  },
  {
   "cell_type": "markdown",
   "metadata": {
    "slideshow": {
     "slide_type": "slide"
    }
   },
   "source": [
    "\n",
    "## Forelesningsplan\n",
    "\n",
    "* Week 34 - Repetisjon av Python og versjonskontroll med Git\n",
    "---\n",
    "* Week 35 - Testing og feilhåndtering\n",
    "* Week 36 - Objekt-orientert programmering\n",
    "* Week 37 - Mer OOP og Kodestil & Dokumentasjon\n",
    "* Week 38 - Mer OOP\n",
    "---\n",
    "* Week 39 - Intro til C++\n",
    "* Week 40 - Intro til C++\n",
    "    * (Week 41 - Ingen forelesning pga midtsemestereksamen)\n",
    "* Week 42 - Datastrukturer og algoritmer\n",
    "* Week 43 - Datastrukturer og algoritmer\n",
    "---\n",
    "* Week 44 - Tilfeldige tall og stokastiske simuleringer\n",
    "* Week 45 - Databehandling og plotting\n",
    "* Week 46 - Optimalisering og parallelprogrammering\n",
    "* Week 47 - Oppsummering av kurset\n"
   ]
  },
  {
   "cell_type": "markdown",
   "metadata": {
    "slideshow": {
     "slide_type": "slide"
    }
   },
   "source": [
    "## Oversikt\n",
    "\n",
    "### Objekt-orientert Programmering\n",
    "* Lage klasser i Python og C++\n",
    "* Arv og hierarki, Polymorfisme, Interfaces, abstrakte klasser, virtuelle metoder\n",
    "\n",
    "### Versjonskontroll, validering,\n",
    "* Versjonskontroll med `git`\n",
    "* Enhetstesting med `pytest`\n",
    "\n",
    "### C++\n",
    "* Skrive, kompilere og kjøre C++ kode\n",
    "* Forstå og forklare grunnleggende forskjeller mellom Python og C++\n",
    "* Datastrukturer i C++ (arrays, structs, klasser)\n",
    "* Enkel blandet programmering med Python og C++\n",
    "\n",
    "###  Datastrukturer og Algoritmer\n",
    "* Forstå og kunne implementere dynamiske arrays og lenkede lister\n",
    "* Algoritmeanalyse og Big Oh-analyse\n",
    "\n",
    "### Stokastiske simuleringer og tilfeldighet\n",
    "* Psuedotilfeldige tallgeneratorer\n",
    "* Random walks, markovkjeder \n",
    "* Monte Carlo integrasjon\n",
    "\n",
    "### Profilering og optimalisering\n",
    "* Profilering og benchmarking\n",
    "* Algoritmeanalyse og optimalisering\n",
    "* Kort innføring i parallelitet"
   ]
  },
  {
   "cell_type": "markdown",
   "metadata": {
    "slideshow": {
     "slide_type": "slide"
    }
   },
   "source": [
    "## Vi prøver å ha fokus på høy kodekvalitet\n",
    "\n",
    "En god kode bør\n",
    "* Fungere\n",
    "* Være grundig testet\n",
    "* Lett å lese og forstå\n",
    "* Være godt dokumentert\n",
    "* Være effektiv\n",
    "\n",
    "Dere skal lære om alle disse komponentene av gode"
   ]
  },
  {
   "cell_type": "markdown",
   "metadata": {
    "slideshow": {
     "slide_type": "slide"
    }
   },
   "source": [
    "## Undervisningsmateriale\n",
    "\n",
    "Emnesidene har beskjeder og timeplanene\n",
    "* https://www.uio.no/studier/emner/matnat/ifi/IN1910/h21/\n",
    "\n",
    "Undervisningsmaterialet publiseres på GitHub pages:\n",
    "* https://pages.github.uio.no/IN1910/IN1910_H21\n",
    "\n",
    "Her legges det ut (materialene er på engelsk, selv om forelesnigner holdes på norsk)\n",
    "* Forelesningsnotater\n",
    "* Slides\n",
    "* Ukesoppgaver\n",
    "* Prosjektene\n",
    "\n",
    "\n",
    "<img src=\"figures/gh_pages.png\" alt=\"Drawing\" style=\"width: 50%;\"/>"
   ]
  },
  {
   "cell_type": "markdown",
   "metadata": {
    "slideshow": {
     "slide_type": "slide"
    }
   },
   "source": [
    "## Alternative materialer\n",
    "\n",
    "Emnesidene har forelesningsnotater til alle forelesninger, og det holder å bruke disse i kurset. Men for de som ønsker seg alternative kilder kan vi anbefale følgende:\n",
    "\n",
    "* *Introduction to Scientific Programming with Python* av Joakim Sundnes\n",
    "    * Gratis digital utgave finnes [her](https://www.springer.com/gp/book/9783030503550)\n",
    "\n",
    "* Boka til Hans Petter Langtangen\n",
    "<img src=\"figures/langtangen.jpg\" width=110>\n",
    "\n",
    "* Online kilder\n",
    "    - https://realpython.com\n",
    "    - https://www.learnpython.org\n",
    "    - https://stackoverflow.com\n",
    "    - https://automatetheboringstuff.com\n",
    "\n",
    "Å bruke Google og digitale kilder oppfordres det sterkt til. Husk derimot at det ikke er lov å direkte kopiere kode på obligatoriske prosjekter uten å henvise til kilder.\n"
   ]
  },
  {
   "cell_type": "markdown",
   "metadata": {
    "slideshow": {
     "slide_type": "slide"
    }
   },
   "source": [
    "## Arbeid i emnet\n",
    "\n",
    "Ukentlige øvingsoppgaver\n",
    "* Du finner oppgavene på github\n",
    "* Løsningsforslag legges ut påfølgende uke\n",
    "* Frivillig, men anebfales på det sterkeste\n",
    "\n",
    "Fire obligatoriske prosjekter\n",
    "* Alle må bestås (minst 60% poeng)\n",
    "* Dersom man oppnår minst 30% får man mulighet til å forbedre og levere på nytt\n",
    "* Første prosjekt deles ut allerede 30. august\n",
    "* Første prosjekt gjøres alene, de tre andre kan gjøres i par\n",
    "   \n",
    "**Fordi prosjektarbeider inngår i mappevurdering av kurset må dere søke om utsettelser hos studieadministrasjonen. Vennligst søk så tidlig som mulig, og ihvertfall før fristen på prosjektet er ute om mulig.**\n",
    "\n"
   ]
  },
  {
   "cell_type": "markdown",
   "metadata": {
    "slideshow": {
     "slide_type": "slide"
    }
   },
   "source": [
    "## Gruppeundervisning\n",
    "\n",
    "Det finnes fem grupper. De fire første er fysiske (se hvor i [Timeplanen på emnesidene](https://www.uio.no/studier/emner/matnat/ifi/IN1910/h21/timeplan))\n",
    "* Gruppe 1 - Tirsdag 10.15-12.00\n",
    "* Gruppe 2 - Fredag 14.15-16.00\n",
    "* Gruppe 3 - Tirsdag 10.15-12.00\n",
    "* Gruppe 4 - Torsdag 14.15-16.00\n",
    "\n",
    "**Merk at det kun er lov å møte i gruppen du tilhører (sjekk StudentWeb). Om du tilhører gruppe 5 kan du møte i Gruppe 4 om du ønkser**\n",
    "\n",
    "Det er også en digital gruppetime (Gruppe 5). Alle som ønsker kan delta i den digitale gruppetimen\n",
    "* Gruppe 5 - Fredag 10.15-12.00\n",
    "Du finner Zoom-link i timeplanen på emnesidene."
   ]
  },
  {
   "cell_type": "markdown",
   "metadata": {
    "slideshow": {
     "slide_type": "slide"
    }
   },
   "source": [
    "## Eksamen\n",
    "\n",
    "* Alle fire prosjektene må være bestått for å gå opp til eksamen\n",
    "* Det er en individuall muntlig eksamen\n",
    "* Eksamen dreier seg stort sett om prosjektene\n",
    "    * Du blir bedt om å presentere et av prosjektene (tilfeldig valgt)\n",
    "    * Deretter får du et par spørsmål fra de andre prosjektene/resten av kurset\n",
    "* Eksamen og kurset som helhet gir karakterene Bestått/Ikke bestått."
   ]
  },
  {
   "cell_type": "markdown",
   "metadata": {
    "slideshow": {
     "slide_type": "slide"
    }
   },
   "source": [
    "## Mattermost\n",
    "\n",
    "Du kan stille spørsmål eller diskutere pensum på Mattermost\n",
    "* https://mattermost.uio.no/ifi-in1910/\n",
    "\n",
    "* Det er opprettet egne kanaler for hver gruppe hvor dere kan stille spørsmål til gruppelæreren deres.\n",
    "* Det er fint om alle blir med i kanelen for deres egen gruppe og deltat i diskusjon \n",
    "* Vi kommer også til opprette egne rom for hvert prosjekt.\n",
    "\n",
    "Merk at man ikke kan være anonym på åpne kanaler i Mattermost, men dere kan sende melding direkte til Foreleser/Gruppelærer om dere ikke ønsker at andre studenter skal se dette. "
   ]
  },
  {
   "cell_type": "markdown",
   "metadata": {
    "slideshow": {
     "slide_type": "slide"
    }
   },
   "source": [
    "## Programvare\n",
    "\n",
    "Det står mer om installasjon av programvare på github, du kan også spørre om hjelp til installasjon på gruppetimene om du står fast.\n",
    "\n",
    "* Python 3.7 eller nyere\n",
    "\n",
    "* [SciPy stack](https://www.scipy.org/stackspec.html) (for example an [Anaconda Distribution](https://www.anaconda.com/download/) distribution)\n",
    "\n",
    "* [pytest](https://pytest.org) (`pip install pytest`)\n",
    "\n",
    "* En text editor\n",
    "    - [Visual Studio Code](https://code.visualstudio.com) (denne kommer jeg til å bruke)\n",
    "    - [Sublime Text](https://www.sublimetext.com)\n",
    "    - [Atom](https://atom.io)\n",
    "    - [Notepad++](https://notepad-plus-plus.org)\n",
    "    - [Emacs](https://www.gnu.org/software/emacs/)\n",
    "    - [Vim](https://www.vim.org/download.php)\n",
    "    \n",
    "* [Git](https://git-scm.com/downloads)\n",
    "\n",
    "* Senere: En C++ kompilator\n",
    "* Greit å ha: Jupyter Notebook (kommer med Anaconda)\n",
    "\n",
    "Hvis dere har problemer med å installere noe av programvaren eller ikke ønsker å installere det kan dere også bruke [IFI maskinene](https://termvakt.uio.no/Fjerninnlogging)"
   ]
  },
  {
   "cell_type": "markdown",
   "metadata": {
    "slideshow": {
     "slide_type": "slide"
    }
   },
   "source": [
    "## Tilbakemelding og hjelp\n",
    "\n",
    "* Forelesere (henriknf@simula.no og/eller jonas@simula.no)\n",
    "* Gruppelærere (Ta kontakt på Mattermost eller epost)\n",
    "* Studiekonsulentene (studieinfo@ifi.uio.no)\n",
    "* Eventuelt Fagutvalget ved IFI"
   ]
  },
  {
   "cell_type": "markdown",
   "metadata": {
    "slideshow": {
     "slide_type": "slide"
    }
   },
   "source": [
    "## Tips til å bli bedre til å kode\n",
    "\n",
    "1. Jo mer du koder jo bedre blir du\n",
    "2. Prøv å løse oppgaver på nye og forskjellige måter\n",
    "3. Lag egne prosjekter som handler om dine egne interessert. Det er lettere å lære nye ting når man er motivert\n",
    "4. Gjør de ukentlige oppgavene\n",
    "5. Diskuter oppgaver, prosjekter og løsnigner med andre studenter eller gruppelærere\n",
    "6. Søk etter alternative ressurser når du står fast eller vil lære mer\n",
    "7. Bruk litt tid med å bli kjent med verktøyene du bruker (terminalen, editoren din, git, etc)"
   ]
  },
  {
   "cell_type": "markdown",
   "metadata": {
    "slideshow": {
     "slide_type": "slide"
    }
   },
   "source": [
    "# Programmering for naturvitenskapelige anvendelser (egne eksempler)\n",
    "\n",
    "![simula](figures/simula.jpg)"
   ]
  },
  {
   "cell_type": "markdown",
   "metadata": {
    "hide_input": true,
    "slideshow": {
     "slide_type": "slide"
    }
   },
   "source": [
    "## Analyse og modellering av hjertet\n",
    "\n",
    "<video controls loop src=\"figures/4D_ultrasound.mp4\">animation</video>\n",
    "<video controls loop src=\"figures/simple_simulation.mp4\">animation</video>"
   ]
  },
  {
   "cell_type": "markdown",
   "metadata": {
    "hide_input": false,
    "scrolled": true,
    "slideshow": {
     "slide_type": "slide"
    }
   },
   "source": [
    "<video controls loop src=\"figures/fiber_stress_normal.mp4\">animation</video>"
   ]
  },
  {
   "cell_type": "markdown",
   "metadata": {
    "slideshow": {
     "slide_type": "slide"
    }
   },
   "source": [
    "## Analyse av stamceller\n",
    "\n",
    "<video controls loop src=\"figures/mps.mp4\">animation</video>\n"
   ]
  },
  {
   "cell_type": "markdown",
   "metadata": {},
   "source": [
    "<img src=\"figures/optical.png\" />"
   ]
  }
 ],
 "metadata": {
  "celltoolbar": "Slideshow",
  "kernelspec": {
   "display_name": "Python 3",
   "language": "python",
   "name": "python3"
  },
  "language_info": {
   "codemirror_mode": {
    "name": "ipython",
    "version": 3
   },
   "file_extension": ".py",
   "mimetype": "text/x-python",
   "name": "python",
   "nbconvert_exporter": "python",
   "pygments_lexer": "ipython3",
   "version": "3.6.9"
  }
 },
 "nbformat": 4,
 "nbformat_minor": 2
}
