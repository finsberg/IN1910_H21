{
 "cells": [
  {
   "cell_type": "markdown",
   "metadata": {},
   "source": [
    "# Code Style and Documentation\n",
    "\n",
    "In the previous lecture we talked about how to write functioning and reliable software, and how we test code to verify that it is working as intended. Today, we turn to how to make code structured and readable. This means we will cover code style and documentation."
   ]
  },
  {
   "cell_type": "markdown",
   "metadata": {},
   "source": [
    "### What is code style and why is it important?\n",
    "\n",
    "> Write programs for people, not computers\n",
    "\n",
    "Just like writing prose, there are many choices one can make when writing code. The choices about how the code is written and structured is called the code style. It encompases everything from use of whitespace, indentation, naming of variables and so on. Following a good coding style gives code that is more readable and easier to understand. As a result, code with good style is easier to use, troubleshoot, maintain and extend. Code with bad style on the other hand, can be frustrating to work with lead to more errors over time.\n",
    "\n",
    "Like with any writing, there are no hard rules about what constitutes good style, and there are different choices one can make—the important thing is to be consistent in your choices. A piece of code should have the same code style and formatting throughout."
   ]
  },
  {
   "cell_type": "markdown",
   "metadata": {},
   "source": [
    "### Style Guides\n",
    "\n",
    "As most software in the real world is developed collaboratively, this means it is important for different programmers to agree on what code style to follow, otherwise they will end up with code that is messy. Because of this, most software groups agree on a *style guide*, which guides all the programmers in the project to follow the same style. Because everyone is following the same guidelines, it's easier to collaborate.\n",
    "\n",
    "Put simply, a style guide is a list of *dos* and *don'ts* that you will be expected to follow. Because style guidelines is about *writing* code, they are often specific to a given programming language. Python is a popular programming language, and so many different style guides exist, for example [Google's Python style guide](https://github.com/google/styleguide/blob/gh-pages/pyguide.md). \n",
    "\n",
    "### The PEP8 Style Guide\n",
    "\n",
    "In IN1910, we want you to use a good and consistent code style in the code you write. We therefore want you to attempt to follow a specific style guide. We opt to go with the PEP8 style guide.\n",
    "\n",
    "PEP stands for *Python Enhancement Proposal*, and these are documents that are proposals for new features or design changes to Python. The PEPs and discussed and reviewd by the community and over time the Python developers incorporate them into the language. One of these, PEP8, is a code style guide for the Python code in Python's standard library should be written. Put simply: PEP8 is how Python's developers are writing python code.\n",
    "\n",
    "* [Link to the PEP8 style guide](https://www.python.org/dev/peps/pep-0008/)\n",
    "\n",
    "The PEP8 style guide is not that long and consists mostly of simple examples and explanations for why the rules are chosen as they are. If you want to become a more proficient Python programmer, reading through it is a adviced.\n",
    "\n",
    "**In IN1910, the most important thing we expect from you when it comes to style is that you are consistent and use a style that is easily readable and understandable. We recommend that you follow the PEP8 style guide.**\n",
    "\n",
    "We will now go through and cover *some* of the rules in PEP8, but we don't cover everything, so reading through the actualy style guide is still good. Most of the examples we show are taken directly from the PEP8 document."
   ]
  },
  {
   "cell_type": "markdown",
   "metadata": {},
   "source": [
    "### Some points from PEP8\n",
    "\n",
    "#### General formatting\n",
    "\n",
    "* Ident by 4 spaces, do not use tabs\n",
    "* Avoid lines longer than 79 characters (although this limit is moving up ...)\n",
    "* When wrapping long lines, use parentheses to keep things together\n",
    "* Separate top-level functions and classes by two blank lines, \n",
    "* class methods should be separated by one blank line\n",
    "* Use blank lines in functions, sparingly, to indicate logical sections.\n",
    "* Use UTF-8 encoding\n",
    "* Put imports on separate lines at the top of the file\n",
    "\n",
    "#### Naming conventions\n",
    "\n",
    "* Module (file) names should be short and written in all lowercase. Underscores are allowed and often used to separate different words.\n",
    "\n",
    "* Function names should be all lowercase with parts separated by underscore (`count_words()`)\n",
    "\n",
    "* Variable names: same as function names\n",
    "\n",
    "* Class names: should normally use the CapWords convention. (`FunctionIntegrator`).\n",
    "\n",
    "* Constants: all uppercase, parts separated by underscore (`MAX_WEIGHT`)\n",
    "\n",
    "* Never use `l`, `O`, or `I` (lowercase l, uppercase o, uppercase i) for single-letter names. These can be easy to confuse for others characters, or downright indistinguishable in some fonts.\n",
    "\n",
    "Note that the built-in dataypes break the class name convention (`tuple`, `int`, `list`, etc), but those are special cases.\n",
    "\n",
    "#### White Space\n",
    "\n",
    "Be careful and consistent with whitespace:\n",
    "* Yes: `spam(1)`\n",
    "* No:  `spam (1)`\n",
    "\n",
    "\n",
    "* Yes: `spam(ham[1], {eggs: 2})`\n",
    "* No:  `spam( ham[ 1 ], { eggs: 2 } )`\n",
    "\n",
    "\n",
    "* Yes: `if x == 4: print x, y; x, y = y, x`\n",
    "* No:  `if x == 4 : print x , y ; x , y = y , x`\n",
    "\n",
    "\n",
    "* Yes: `dct['key'] = lst[index]`\n",
    "* No:  `dct ['key'] = lst [index]`\n",
    "\n",
    "**More bad examples**\n",
    "```Python\n",
    "i=i+1\n",
    "submitted +=1\n",
    "x = x * 2 - 1\n",
    "hypot2 = x * x + y * y\n",
    "c = (a + b) * (a - b)\n",
    "\n",
    "def complex(real, imag = 0.0):\n",
    "    return magic(r = real, i = imag)\n",
    "```\n",
    "**More good examples**\n",
    "\n",
    "```Python\n",
    "i = i + 1\n",
    "submitted += 1\n",
    "x = x*2 - 1\n",
    "hypot2 = x*x + y*y\n",
    "c = (a+b) * (a-b)\n",
    "\n",
    "def complex(real, imag=0.0):\n",
    "    return magic(r=real, i=imag)\n",
    "```\n",
    "\n",
    "#### Line Length and breaking lines\n",
    "\n",
    "PEP8 states that no lines should go beyond 79 characters. This 80-width character limit in code is very common rule in code style guides, across many languages. Keeping lines from becoming too long helps readability, as long lines can be tricky to read. Another important reason is that we have no control over what tools others use to read the code. They might be reading the code in an editor with a 80-character width, or 130. If the line overflows, it might break at a weird place, and lead to messy code.\n",
    "\n",
    "If we get lines that become longer than 79 characters, we need to break the line over several lines, the best way to do this is parenthenses, as expressions inside parenthenses can be split over multiple lines in Python without any other formatting needed. As it's mostly long mathematical expressions or function definitions/calls that get very long, parantheses are often already present."
   ]
  },
  {
   "cell_type": "markdown",
   "metadata": {},
   "source": [
    "When splitting a mathematical expression over multiple lines, the natural thing to do is split the lines at the operators, so that different lines contain the different terms, in this case, but the operators on the same line as the operands for readability:\n",
    "\n",
    "**No**—operators sit far away from their operands\n",
    "```Python\n",
    "income = (gross_wages +\n",
    "          taxable_interest +\n",
    "          (dividends - qualified_dividends) -\n",
    "          ira_deduction -\n",
    "          student_loan_interest)\n",
    "```\n",
    "\n",
    "**Yes**—easy to match operators with operands\n",
    "```Python\n",
    "income = (gross_wages\n",
    "          + taxable_interest\n",
    "          + (dividends - qualified_dividends)\n",
    "          - ira_deduction\n",
    "          - student_loan_interest)\n",
    "```\n",
    "Note that we also align each line under each other, which really helps with keeping things readable.\n",
    "\n",
    "**Yes**\n",
    "```Python\n",
    "foo = long_function_name(var_one, var_two,\n",
    "                         var_three, var_four)\n",
    "```\n",
    "\n",
    "**No**\n",
    "```Python\n",
    "foo = long_function_name(var_one, var_two,\n",
    "           var_three, var_four)\n",
    "```\n",
    "\n",
    "\n",
    "\n",
    "\n",
    "We can alternatively move all the arguments to the next line and align them wherever we find appropriate, just make sure they are indenteded further than the following code line so they are distinguishable\n",
    "\n",
    "**Yes**\n",
    "```Python\n",
    "def long_function_name(\n",
    "        var_one, var_two,\n",
    "        var_three, var_four):\n",
    "    print(var_one)\n",
    "```\n",
    "**No**\n",
    "```Python\n",
    "def long_function_name(\n",
    "    var_one, var_two,\n",
    "    var_three, var_four):\n",
    "    print(var_one)\n",
    "```"
   ]
  },
  {
   "cell_type": "markdown",
   "metadata": {},
   "source": [
    "#### Comments\n",
    "\n",
    "* Comments that contradict the code are worse than no comments. Always make a priority of keeping the comments up-to-date when the code changes!\n",
    "* Comments should be complete sentences.\n",
    "* Use inline comments sparingly.\n",
    "* Inline comments are unnecessary and in fact distracting if they state the obvious. \n",
    "    \n",
    "Don't do this:      \n",
    "```\n",
    "x = x + 1  # Increment x\n",
    "```\n",
    "But sometimes, this is useful:\n",
    "```\n",
    "x = x + 1  # Compensate for border\n",
    "```"
   ]
  },
  {
   "cell_type": "markdown",
   "metadata": {},
   "source": [
    "#### Some if-test conventions\n",
    "\n",
    "When checking if a variable is or is not `None`, do so explicitly with `is`\n",
    "```\n",
    "Yes: if foo is None:\n",
    "     if foo is not None:\n",
    "\n",
    "No:  if foo == None:\n",
    "     if foo != None:\n",
    "     if not foo is None:\n",
    "```\n",
    "\n",
    "Note also that checking if something is `None` is more strict than checking true/false. The following prints only if `foo` is exactly `None`:\n",
    "```\n",
    "if foo is not None:\n",
    "    print('***')\n",
    "``` \n",
    "The following test however, prints if `foo` is `None`, `False`, 0, `[]`, `''`, etc.:\n",
    "```\n",
    "if foo:\n",
    "    print('***')\n",
    "```\n",
    "\n",
    "Also, use `if a is not b` rather than `if not a is b`, the two are equivalent, but the first variants is much more readable.\n",
    "\n",
    "If you are checking a boolean variable, don't compare it to `True` or `False`\n",
    "* Yes: `if greeting:`\n",
    "* No: `if greeting == True:`\n",
    "* Worse: `if greeting is True:`\n"
   ]
  },
  {
   "cell_type": "markdown",
   "metadata": {},
   "source": [
    "### Avoid Foolish Consistency\n",
    "\n",
    "One of the first points of PEP8 states:\n",
    "> A Foolish Consistency is the Hobgoblin of Little Minds\n",
    "\n",
    "The goal of a style guide is to improve readability and consistency, but there will always be times were one should break with the rules. This is especially the case when strict adherence to the rule would *limit* readability.\n",
    "\n",
    "In the end, good code is much more than good style. There is a great talk by Raymond Hettinger from PyCon2015 that goes into this: \n",
    "* *[Beyond PEP 8 -- Best practices for beautiful intelligible code](https://youtu.be/wf-BqAjZb8M)*\n",
    "This talk is well worth a talk to understand how to think about writing good and elegant Python code.\n",
    "\n",
    "There are also many useful linters that you can either integrate in your editor or run directly from the commandline that will analyze you code and report lines that violates the styleguide:\n",
    "\n",
    "* [black](https://github.com/python/black)\n",
    "* [flake8](http://flake8.pycqa.org/en/latest/)\n",
    "* [autopep8](https://github.com/hhatto/autopep8)\n",
    "* [pylama](https://github.com/klen/pylama)"
   ]
  },
  {
   "cell_type": "markdown",
   "metadata": {},
   "source": [
    "## Documentation\n",
    "\n",
    "Software documentation is a guide that describe how a piece of software is structured, how it works, and how to use and maintain it. Good documentation helps people understand a piece of software, and well documented code can therefore easily be picked up by others for use or extending it. Poorly documented code however, is often usuable only by its author, and it is hard for others to help develop, maintain or use it.\n",
    "\n",
    "Poorly documented code is sadly quite common in the scientific field, and its a problem when many people who write and develop software are only in temporary positions. Code developed by master students, PhD's or post-docs will often be used or further developed long after that scientists leaves the group, and so should be well documented. Imagine starting in a lab and being given software consisting of many thousands of lines of code. The person who wrote it is gone, there is no documentation, and you have to figure out how to implement some new feature your advisor works. This will lead to frustration and inefficient software development.\n",
    "\n",
    "### Document Design and Purpose, not mechanics\n",
    "\n",
    "In a perfect world, we would have time to develop extensive and perfect documentation of all software projects. However, in the real world, there is often not much time to devote to documentation. It is therefore important to spend your documentation time effectively, focus on the parts somebody *needs* to understand, namely the design and purpose of the code, as well as its inputs, outputs and adjustable parameters. \n",
    "\n",
    "Also remember that people can always read the source code itself. So the documentation doesn't need to cover what is actually happening in the code down to the smallest detail. Whay they need is the big-picture use and helpful pointers on where to look.\n",
    "\n",
    "### Embed documentation within the software itself\n",
    "\n",
    "When we think of documentation, it might be common to think of a separate user manual, text document or a website explaining the code. However, developing the documentation seperate from the code itself is not recommended. For one thing, when someone updates the code, it is important the documentation is updated aswell. It is more likely that this happens if the two are contained in the same piece of software. This way, we are also guaranteed somebody that gets the code gets the documentation. Because of these points, we will always aim to embedd the documentation of the code directly into that code."
   ]
  },
  {
   "cell_type": "markdown",
   "metadata": {},
   "source": [
    "## Documentation Strings\n",
    "\n",
    "In Python, the most important thing to have good documentation is to write good *docstrings*. Docstrings are string literals you put as the first thing in modules or function definitions. For example:"
   ]
  },
  {
   "cell_type": "code",
   "execution_count": 1,
   "metadata": {},
   "outputs": [],
   "source": [
    "def factor(n):\n",
    "    \"\"\"Return the prime factorization of an integer.\"\"\"\n",
    "    if n == 1:\n",
    "        return [1]\n",
    "    \n",
    "    factors = []\n",
    "    while n > 1:\n",
    "        for i in range(2, n+1):\n",
    "            if n % i == 0:\n",
    "                factors.append(i)\n",
    "                n = int(n/i)\n",
    "    return factors"
   ]
  },
  {
   "cell_type": "markdown",
   "metadata": {},
   "source": [
    "We place docstrings so that they are always right were they are relevant. Thus someone reading our code will get a good idea of what the different parts of our code is doing and why they are doing it."
   ]
  },
  {
   "cell_type": "markdown",
   "metadata": {},
   "source": [
    "Another important part of docstrings is that they will get stored automatically as a `__doc__` attribute"
   ]
  },
  {
   "cell_type": "code",
   "execution_count": 2,
   "metadata": {
    "tags": []
   },
   "outputs": [
    {
     "output_type": "stream",
     "name": "stdout",
     "text": "Return the prime factorization of an integer.\n"
    }
   ],
   "source": [
    "print(factor.__doc__)"
   ]
  },
  {
   "cell_type": "markdown",
   "metadata": {},
   "source": [
    "Similarily, we can place a docstring at the top of a module (file) and when we import that module as a package in Python, the string will be stored as a `__doc__` attribute:"
   ]
  },
  {
   "cell_type": "code",
   "execution_count": 3,
   "metadata": {
    "tags": []
   },
   "outputs": [
    {
     "output_type": "stream",
     "name": "stdout",
     "text": "\nThis module contains a class for representing 3-dimensional vectors,\nit is covered by L4, but used for examples of nose testing in L5.\nSee the test_vector.py module for example of unit tests.\n\n"
    }
   ],
   "source": [
    "import vector\n",
    "print(vector.__doc__)"
   ]
  },
  {
   "cell_type": "markdown",
   "metadata": {},
   "source": [
    "The fact that docstrings can be accessed directly as attributes means it is very easy for editors and other tools to use *code introspection* to give us more information. For example in an iPython shell, we can use `help()` or write `??` immediately behind a function or class method to read that methods docstring. Similarily, in Jupyter you can press `Shift+Tab` to read the docstring of the variable your cursor is located. "
   ]
  },
  {
   "cell_type": "code",
   "execution_count": 4,
   "metadata": {},
   "outputs": [
    {
     "output_type": "execute_result",
     "data": {
      "text/plain": "<bound method Vector3D.unit of Vector3D(0, 4, 4)>"
     },
     "metadata": {},
     "execution_count": 4
    }
   ],
   "source": [
    "u = vector.Vector3D(0, 4, 4)\n",
    "u.unit"
   ]
  },
  {
   "cell_type": "markdown",
   "metadata": {},
   "source": [
    "There are also tools for going through entire codes, and compiling automatic documentation through these techniques. We'll get back to this later."
   ]
  },
  {
   "cell_type": "markdown",
   "metadata": {},
   "source": [
    "### Writing good docstrings\n",
    "\n",
    "There is a segment in [PEP8](https://www.python.org/dev/peps/pep-0008/) on docstrings, but there is an even more important PEP here:\n",
    "* [PEP257—Docstring Conventions](https://www.python.org/dev/peps/pep-0257/)\n",
    "\n",
    "This PEP is very short, and it will take you a few minutes to read. In your project work, we expect you to try to follow PEP8 and PEP257.\n",
    "\n",
    "We now go through and show some of the important points of good docstring conventions."
   ]
  },
  {
   "cell_type": "markdown",
   "metadata": {},
   "source": [
    "#### Docstring Conventions\n",
    "\n",
    "Always use triple double quotes (`\"\"\"This is an example.\"\"\"`)to define your docstrings, even if they are single lines. This is both to give them a consistent style in your code, but also to make it easy to extend them to multiple lines later.\n",
    "\n",
    "Docstrings should always be full sentences, starting with a capital letter and ending with a period. For simple functions or obvious cases, docstrings can be kept short and put on a single line.\n",
    "```Python\n",
    "def is_prime(n):\n",
    "    \"\"\"Check if an integer is prime.\"\"\"\n",
    "```\n",
    "We put everything on single line, even the quotes. Don't leave blank lines above or below docstrings, they aren't needed. Also note that the docstring should prescribe the function or method's effect as a command (\"Do this\", \"Return that\"), not as a description; e.g. don't write \"Returns the pathname ...\".\n",
    "\n",
    "For functions or methods where we want to write a longer docstring with more information, we split it on multiple lines. When we do this, always have a short sentence summarizing at the top, then a blank line, then give more information. Here is an example taken (and simplifed) from `numpy.gradient`\n",
    "```Python\n",
    "def gradient(f):\n",
    "    \"\"\"Return the gradient of an N-dimensional array.\n",
    "\n",
    "    The gradient is computed using second order accurate central differences\n",
    "    in the interior points and either first or second order accurate one-sides\n",
    "    (forward or backwards) differences at the boundaries.\n",
    "    The returned gradient hence has the same shape as the input array.\n",
    "    \"\"\"\n",
    "```\n",
    "Note that if the docstring spans multiple lines, we put the ending quotes on a seperate line.\n",
    "\n",
    "Useful information for a docstring to contain\n",
    "* summarize behavior of a function or method\n",
    "* what argument it takes\n",
    "* what output(s) it returns\n",
    "* side effects\n",
    "* what exceptions might be raised\n",
    "* any restrictions on when it can be called\n",
    "* optional keyword arguments should be indicated and explained\n",
    "\n",
    "There exists a variety of docstring [styles](https://sphinxcontrib-napoleon.readthedocs.io/en/latest/).\n",
    "Personally I like the [Numpy style](https://numpydoc.readthedocs.io/en/latest/format.html), but there are also many other good ones. "
   ]
  },
  {
   "cell_type": "markdown",
   "metadata": {},
   "source": [
    "## Building automatic stand-alone documentation through code introspection\n",
    "\n",
    "The nice thing about defining good docstrings is that there are plenty of tools that will parse complete code-bases and compile the docstrings into nice-looking, indexable and searchable pdf's, websites and so on.\n",
    "\n",
    "One of the most popular tools for doing this in Python is [Sphinx](http://www.sphinx-doc.org/en/master/), which was originally made to be used on Python's own documentation, and is thus used by all packages in the standard library and the scipy stack. In C++ there is an alternative tool that is possible to do the same as Sphinx, called Doxygen.\n",
    "\n",
    "To get an understanding of how powerful such automatic documentation is, take a look at the numpy reference pages, for example the reference for [numpy.gradient](https://docs.scipy.org/doc/numpy/reference/generated/numpy.gradient.html). This is an example of good reference documentation. It shows what the function does, lists what inputs and optional inputs it takes, lists references and shows example. All of this documentation is automatically generated by Sphinx based on the the function's docstring.\n",
    "\n",
    "As with other tools, we can also integrate Sphinx with our Git repository. One example of this is the website [readthedocs.org](https://readthedocs.org/). You can create a user on this site, and set up so that it automatically pulls from your Git repostiory every time you make changes, and readthedocs then recompiles the autogenerated documentation through Sphinx and hosts it. This way anyone who wants to use the code you share through git can find up-to-date documentation in a searchable, indexable manner. But you don't have to do anything other than write good docstrings!\n",
    "\n",
    "In IN1910 we expect you to write good docstrings for your project. But we don't expect you to spend time on setting up Sphinx or readthedocs for your projects—you are, of course, free to do so, if you want to learn these tools.\n"
   ]
  },
  {
   "cell_type": "code",
   "execution_count": null,
   "metadata": {},
   "outputs": [],
   "source": []
  }
 ],
 "metadata": {
  "kernelspec": {
   "display_name": "Python 3",
   "language": "python",
   "name": "python3"
  },
  "language_info": {
   "codemirror_mode": {
    "name": "ipython",
    "version": 3
   },
   "file_extension": ".py",
   "mimetype": "text/x-python",
   "name": "python",
   "nbconvert_exporter": "python",
   "pygments_lexer": "ipython3",
   "version": "3.7.6"
  }
 },
 "nbformat": 4,
 "nbformat_minor": 2
}